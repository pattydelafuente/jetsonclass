{
 "cells": [
  {
   "cell_type": "markdown",
   "metadata": {},
   "source": [
    "This notebook explains how to reuse the trained model which we pickled in the notebook title \"Sentiment Analyzer\""
   ]
  },
  {
   "cell_type": "code",
   "execution_count": 1,
   "metadata": {},
   "outputs": [],
   "source": [
    "def sentiment_pred(classifier, training_matrix, doc):\n",
    "    \"\"\"function to predict the sentiment of a product review\n",
    "    \n",
    "       classifier : pre trained model\n",
    "       training_matrix : matrix of features associated with the trained model\n",
    "       doc = product review whose sentiment needs to be identified\"\"\"\n",
    "       \n",
    "    X_new = training_matrix.transform(pd.Series(doc)) #don't use fit_transform here because the model is already fitted\n",
    "    X_new = X_new.todense() #convert sparse matrix to dense\n",
    "\n",
    "    from sklearn.feature_extraction.text import TfidfTransformer\n",
    "    tfidf = TfidfTransformer() #by default applies \"l2\" normalization\n",
    "    X_tfidf_new = tfidf.fit_transform(X_new)\n",
    "    X_tfidf_new = X_tfidf_new.todense()\n",
    "\n",
    "    y_new = classifier.predict(X_tfidf_new)\n",
    "    if y_new[0] == 0:\n",
    "        return \"negative sentiment\"\n",
    "    elif y_new[0] == 1:\n",
    "        return \"positive sentiment\""
   ]
  },
  {
   "cell_type": "code",
   "execution_count": 4,
   "metadata": {},
   "outputs": [
    {
     "name": "stderr",
     "output_type": "stream",
     "text": [
      "C:\\Users\\patty\\anaconda3\\lib\\site-packages\\sklearn\\base.py:329: UserWarning: Trying to unpickle estimator SVC from version 0.23.1 when using version 0.23.2. This might lead to breaking code or invalid results. Use at your own risk.\n",
      "  warnings.warn(\n",
      "C:\\Users\\patty\\anaconda3\\lib\\site-packages\\sklearn\\base.py:329: UserWarning: Trying to unpickle estimator CountVectorizer from version 0.23.1 when using version 0.23.2. This might lead to breaking code or invalid results. Use at your own risk.\n",
      "  warnings.warn(\n"
     ]
    },
    {
     "data": {
      "text/plain": [
       "'positive sentiment'"
      ]
     },
     "execution_count": 4,
     "metadata": {},
     "output_type": "execute_result"
    }
   ],
   "source": [
    "import pandas as pd\n",
    "import pickle\n",
    "nb_clf = pickle.load(open(\"nb_sa\", 'rb'))\n",
    "vectorizer = pickle.load(open(\"vectorizer_sa\", 'rb'))\n",
    "new_doc = \"Awesome quality\"\n",
    "sentiment_pred(nb_clf, vectorizer, new_doc)"
   ]
  },
  {
   "cell_type": "code",
   "execution_count": null,
   "metadata": {},
   "outputs": [],
   "source": []
  }
 ],
 "metadata": {
  "kernelspec": {
   "display_name": "Python 3",
   "language": "python",
   "name": "python3"
  },
  "language_info": {
   "codemirror_mode": {
    "name": "ipython",
    "version": 3
   },
   "file_extension": ".py",
   "mimetype": "text/x-python",
   "name": "python",
   "nbconvert_exporter": "python",
   "pygments_lexer": "ipython3",
   "version": "3.8.5"
  }
 },
 "nbformat": 4,
 "nbformat_minor": 4
}

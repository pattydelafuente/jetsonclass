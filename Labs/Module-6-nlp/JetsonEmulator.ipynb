{
 "cells": [
  {
   "cell_type": "code",
   "execution_count": 2,
   "metadata": {},
   "outputs": [
    {
     "name": "stdout",
     "output_type": "stream",
     "text": [
      "Collecting jetson-emulator\n",
      "  Downloading jetson_emulator-1.0.0-py3-none-any.whl (28 kB)\n",
      "Requirement already satisfied: numpy>=1.18.5 in c:\\users\\patty\\anaconda3\\lib\\site-packages (from jetson-emulator) (1.19.2)\n",
      "Requirement already satisfied: matplotlib>=3.2.2 in c:\\users\\patty\\anaconda3\\lib\\site-packages (from jetson-emulator) (3.3.2)\n",
      "Requirement already satisfied: pyparsing!=2.0.4,!=2.1.2,!=2.1.6,>=2.0.3 in c:\\users\\patty\\anaconda3\\lib\\site-packages (from matplotlib>=3.2.2->jetson-emulator) (2.4.7)\n",
      "Requirement already satisfied: kiwisolver>=1.0.1 in c:\\users\\patty\\anaconda3\\lib\\site-packages (from matplotlib>=3.2.2->jetson-emulator) (1.3.0)\n",
      "Requirement already satisfied: cycler>=0.10 in c:\\users\\patty\\anaconda3\\lib\\site-packages (from matplotlib>=3.2.2->jetson-emulator) (0.10.0)\n",
      "Requirement already satisfied: python-dateutil>=2.1 in c:\\users\\patty\\anaconda3\\lib\\site-packages (from matplotlib>=3.2.2->jetson-emulator) (2.8.1)\n",
      "Requirement already satisfied: pillow>=6.2.0 in c:\\users\\patty\\anaconda3\\lib\\site-packages (from matplotlib>=3.2.2->jetson-emulator) (8.0.1)\n",
      "Requirement already satisfied: certifi>=2020.06.20 in c:\\users\\patty\\anaconda3\\lib\\site-packages (from matplotlib>=3.2.2->jetson-emulator) (2020.6.20)\n",
      "Requirement already satisfied: six in c:\\users\\patty\\anaconda3\\lib\\site-packages (from cycler>=0.10->matplotlib>=3.2.2->jetson-emulator) (1.15.0)\n",
      "Installing collected packages: jetson-emulator\n",
      "Successfully installed jetson-emulator-1.0.0\n"
     ]
    }
   ],
   "source": [
    "#https://pypi.org/project/jetson-emulator/#description \n",
    "!pip install jetson-emulator"
   ]
  },
  {
   "cell_type": "code",
   "execution_count": 7,
   "metadata": {},
   "outputs": [],
   "source": [
    "import jetson_emulator.inference as inference\n",
    "import jetson_emulator.utils as utils\n",
    "import numpy as np"
   ]
  },
  {
   "cell_type": "code",
   "execution_count": 9,
   "metadata": {},
   "outputs": [
    {
     "name": "stdout",
     "output_type": "stream",
     "text": [
      "image 1 is recognized as 'unicycle, monocycle' (class #880) with 11.233178% confidence\n",
      "image 2 is recognized as 'mushroom' (class #947) with 38.123597% confidence\n",
      "image 3 is recognized as 'mobile home, manufactured home' (class #660) with 69.408385% confidence\n",
      "image 4 is recognized as 'wallet, billfold, notecase, pocketbook' (class #893) with 90.122862% confidence\n",
      "image 5 is recognized as 'CD player' (class #485) with 97.776008% confidence\n"
     ]
    }
   ],
   "source": [
    "#sample imagenet\n",
    "# load the recognition network\n",
    "net = inference.imageNet(\"googlenet\")\n",
    "for x in range(1,6):\n",
    "    # emulator API to generate sample images for imageNet\n",
    "    filename = net.emulatorGetImageFile()      \n",
    "    img = utils.loadImage(filename) \n",
    "    class_idx, confidence = net.Classify(img)            \n",
    "    class_desc = net.GetClassDesc(class_idx)            \n",
    "    print(\"image \"+str(x)+\" is recognized as '{:s}' (class #{:d}) with {:f}% confidence\".\n",
    "    format(class_desc, class_idx, confidence*100))"
   ]
  },
  {
   "cell_type": "code",
   "execution_count": 10,
   "metadata": {},
   "outputs": [
    {
     "data": {
      "image/png": "[encoded data removed]",
      "text/plain": [
       "<Figure size 432x288 with 1 Axes>"
      ]
     },
     "metadata": {},
     "output_type": "display_data"
    },
    {
     "name": "stdout",
     "output_type": "stream",
     "text": [
      "detected 2 objects in image\n",
      "\n",
      "class_desc: person\n",
      "<jetson.inference.Detection object>\n",
      "   -- ClassID: 2\n",
      "   -- Confidence: 0.992871\n",
      "   -- Left: 638.0\n",
      "   -- Top: 1687.0\n",
      "   -- Right: 804.0\n",
      "   -- Bottom: 1807.0\n",
      "   -- Width: 166.0\n",
      "   -- Height: 120.0\n",
      "   -- Area: 19920.0\n",
      "   -- Center: (721.0, 1747.0)\n",
      "\n",
      "class_desc: bicycle\n",
      "<jetson.inference.Detection object>\n",
      "   -- ClassID: 3\n",
      "   -- Confidence: 0.528252\n",
      "   -- Left: 1720.0\n",
      "   -- Top: 1595.0\n",
      "   -- Right: 2050.0\n",
      "   -- Bottom: 1899.0\n",
      "   -- Width: 330.0\n",
      "   -- Height: 304.0\n",
      "   -- Area: 100320.0\n",
      "   -- Center: (1885.0, 1747.0)\n",
      "\n"
     ]
    }
   ],
   "source": [
    "#sample object detection\n",
    "network = \"ssd-mobilenet-v2\"\n",
    "net = inference.detectNet(network, threshold=0.5)\n",
    "input_URI = \"rtsp://jetson_emulator:554/detectNet/road_cam/4k\" \n",
    "input  = utils.videoSource(input_URI, argv=\"\")\n",
    "output = utils.videoOutput(\"display://1\", argv=\"\")\n",
    "img = input.Capture()\n",
    "detections = net.Detect(img, \"box\")\n",
    "output.SetStatus(\"{:s} | Network {:.0f} FPS\".format(network, net.GetNetworkFPS()))\n",
    "output.Render(img)\n",
    "print(\"detected {:d} objects in image\\n\".format(len(detections)) )\n",
    "for detection in detections:\n",
    "    print(\"class_desc:\", net.GetClassDesc(detection.ClassID))  \n",
    "    print(detection)"
   ]
  },
  {
   "cell_type": "code",
   "execution_count": 8,
   "metadata": {},
   "outputs": [
    {
     "data": {
      "image/png": "[encoded data removed]",
      "text/plain": [
       "<Figure size 432x288 with 1 Axes>"
      ]
     },
     "metadata": {},
     "output_type": "display_data"
    },
    {
     "name": "stdout",
     "output_type": "stream",
     "text": [
      "-----------------------------------------\n",
      " ID  class name         count   %\n",
      "-----------------------------------------\n",
      "  0  background         17600   0.171875\n",
      "  1  aeroplane              0   0.000000\n",
      "  2  bicycle                0   0.000000\n",
      "  3  bird                   0   0.000000\n",
      "  4  boat                   0   0.000000\n",
      "  5  bottle                 0   0.000000\n",
      "  6  bus                    0   0.000000\n",
      "  7  car                    0   0.000000\n",
      "  8  cat                    0   0.000000\n",
      "  9  chair                  0   0.000000\n",
      " 10  cow                    0   0.000000\n",
      " 11  diningtable            0   0.000000\n",
      " 12  dog                    0   0.000000\n",
      " 13  horse                  0   0.000000\n",
      " 14  motorbike              0   0.000000\n",
      " 15  person             21440   0.209375\n",
      " 16  pottedplant            0   0.000000\n",
      " 17  sheep                  0   0.000000\n",
      " 18  sofa               63360   0.618750\n"
     ]
    }
   ],
   "source": [
    "network = \"fcn-resnet18-voc-320x320\"\n",
    "net = inference.segNet(network, None)\n",
    "input_URI = \"rtsp://jetson_emulator:554/segNet/sofa_cam/4k\"\n",
    "input  = utils.videoSource(input_URI, None)\n",
    "output = utils.videoOutput(\"display://1\", None)\n",
    "img = input.Capture()\n",
    "net.Process(img, ignore_class=\"void\")\n",
    "\n",
    "# get image mask for video output\n",
    "img_mask = utils.cudaAllocMapped(width=img.shape[1], height=img.shape[0], format=img.format) \n",
    "net.Mask(img_mask, img_mask.shape[1], img_mask.shape[0], filter_mode=\"linear\")\n",
    "output.SetStatus(\"{:s} | Network {:.0f} FPS\".format(network, net.GetNetworkFPS()))\n",
    "output.Render(img_mask)\n",
    "\n",
    "# get class mask to calculate histogram\n",
    "grid_width, grid_height = net.GetGridSize()\n",
    "class_mask = utils.cudaAllocMapped(width=grid_width, height=grid_height, format=\"gray8\")\n",
    "net.Mask(class_mask, grid_width, grid_height, filter_mode=\"linear\")\n",
    "class_mask_np = utils.cudaToNumpy(class_mask)\n",
    "\n",
    "# compute the number of times each class occurs in the mask\n",
    "max_class = np.amax(class_mask_np)\n",
    "class_histogram, _ = np.histogram(class_mask_np, bins=max_class+1, density=False)\n",
    "print('-----------------------------------------')\n",
    "print(' ID  class name         count   %')\n",
    "print('-----------------------------------------')\n",
    "for n in range(max_class+1):\n",
    "    percentage = float(class_histogram[n]) / float(grid_width * grid_height)\n",
    "    print(' {:>2d}  {:<18s} {:>5d}   {:f}'.format(n, net.GetClassDesc(n), class_histogram[n], percentage)) "
   ]
  },
  {
   "cell_type": "code",
   "execution_count": null,
   "metadata": {},
   "outputs": [],
   "source": []
  }
 ],
 "metadata": {
  "kernelspec": {
   "display_name": "Python 3",
   "language": "python",
   "name": "python3"
  },
  "language_info": {
   "codemirror_mode": {
    "name": "ipython",
    "version": 3
   },
   "file_extension": ".py",
   "mimetype": "text/x-python",
   "name": "python",
   "nbconvert_exporter": "python",
   "pygments_lexer": "ipython3",
   "version": "3.8.5"
  }
 },
 "nbformat": 4,
 "nbformat_minor": 4
}
